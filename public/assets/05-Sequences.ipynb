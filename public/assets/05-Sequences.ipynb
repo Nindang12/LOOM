{
 "cells": [
  {
   "cell_type": "code",
   "execution_count": 1,
   "metadata": {
    "tags": [
     "remove-input"
    ]
   },
   "outputs": [],
   "source": [
    "import numpy as np\n",
    "from datascience import *\n",
    "\n",
    "#path_data = '../../assets/data/'"
   ]
  },
  {
   "cell_type": "code",
   "execution_count": null,
   "metadata": {},
   "outputs": [],
   "source": []
  },
  {
   "cell_type": "code",
   "execution_count": 3,
   "metadata": {},
   "outputs": [
    {
     "name": "stdout",
     "output_type": "stream",
     "text": [
      "actors.csv\t    galton.csv\t\t\t   observed_outcomes.csv\r\n",
      "airline_ontime.csv  galton_subset.csv\t\t   potential_outcomes.csv\r\n",
      "all-lprs.csv.gz     grades_and_piazza.csv\t   roulette_wheel.csv\r\n",
      "anscombe.csv\t    heights.csv\t\t\t   san_francisco_2015.csv\r\n",
      "baby.csv\t    hodgkins.csv\t\t   san_francisco_2019.csv\r\n",
      "banknote.csv\t    house.csv\t\t\t   sat2014.csv\r\n",
      "birds.csv\t    hybrid.csv\t\t\t   scores_by_section.csv\r\n",
      "birth_time.csv\t    hybrid_reg.csv\t\t   shotput.csv\r\n",
      "breast-cancer.csv   income_small.csv\t\t   sons_heights.csv\r\n",
      "bta.csv\t\t    IV.csv\t\t\t   station.csv\r\n",
      "children_raw.csv    kaiser_ethnicity_children.csv  top_movies_2017.csv\r\n",
      "ckd.csv\t\t    kaiser_ethnicity_everyone.csv  top_movies.csv\r\n",
      "cones.csv\t    little_women.csv\t\t   trip.csv\r\n",
      "couples.csv\t    married_couples.csv\t\t   unfair_flips.csv\r\n",
      "deflategate.csv     minard.csv\t\t\t   united_summer2015.csv\r\n",
      "dugongs.csv\t    movies_by_year.csv\t\t   usa_ca_2014.csv\r\n",
      "educ_inc.csv\t    nba2013.csv\t\t\t   usa_ca_2019.csv\r\n",
      "everyone_raw.csv    nba_salaries.csv\t\t   us_women.csv\r\n",
      "faithful.csv\t    nc-est2014-agesex-res.csv\t   wine.csv\r\n",
      "family_heights.csv  nc-est2015-agesex-res.csv\r\n",
      "football.csv\t    nc-est2019-agesex-res.csv\r\n"
     ]
    }
   ],
   "source": [
    "! ls ../../assets/data/"
   ]
  },
  {
   "cell_type": "markdown",
   "metadata": {},
   "source": [
    "# 05. Sequences\n",
    "\n",
    "Values can be grouped together into collections, which allows programmers to organize those values and refer to all of them with a single name. By grouping values together, we can write code that performs a computation on many pieces of data at once.\n",
    "\n",
    "Calling the function `make_array` on several values places them into an *array*, which is a kind of sequential collection. Below, we collect four different temperatures into an array called `highs`. These are the [estimated average daily high temperatures](http://berkeleyearth.lbl.gov/regions/global-land) over all land on Earth (in degrees Celsius) for the decades surrounding 1850, 1900, 1950, and 2000, respectively, expressed as deviations from the average absolute high temperature between 1951 and 1980, which was 14.48 degrees."
   ]
  },
  {
   "cell_type": "code",
   "execution_count": 4,
   "metadata": {},
   "outputs": [],
   "source": [
    "#make_array?"
   ]
  },
  {
   "cell_type": "code",
   "execution_count": 7,
   "metadata": {},
   "outputs": [
    {
     "data": {
      "text/plain": [
       "array([ 13.6  ,  14.387,  14.585,  15.164])"
      ]
     },
     "execution_count": 7,
     "metadata": {},
     "output_type": "execute_result"
    }
   ],
   "source": [
    "baseline_high = 14.48\n",
    "\n",
    "highs = make_array ( baseline_high - 0.880, baseline_high - 0.093,\n",
    "                     baseline_high + 0.105, baseline_high + 0.684 )\n",
    "\n",
    "highs"
   ]
  },
  {
   "cell_type": "code",
   "execution_count": 8,
   "metadata": {},
   "outputs": [
    {
     "data": {
      "text/plain": [
       "array([ 13.6  ,  14.387,  14.585,  15.164])"
      ]
     },
     "execution_count": 8,
     "metadata": {},
     "output_type": "execute_result"
    }
   ],
   "source": [
    "xhighs = np.array([ baseline_high - 0.880, baseline_high - 0.093,\n",
    "                   baseline_high + 0.105, baseline_high + 0.684 ])\n",
    "\n",
    "xhighs"
   ]
  },
  {
   "cell_type": "code",
   "execution_count": 9,
   "metadata": {},
   "outputs": [
    {
     "name": "stdout",
     "output_type": "stream",
     "text": [
      "(4,)\n"
     ]
    }
   ],
   "source": [
    "print ( highs.shape )"
   ]
  },
  {
   "cell_type": "code",
   "execution_count": 10,
   "metadata": {},
   "outputs": [
    {
     "name": "stdout",
     "output_type": "stream",
     "text": [
      "4\n"
     ]
    }
   ],
   "source": [
    "print ( highs.size )"
   ]
  },
  {
   "cell_type": "code",
   "execution_count": 12,
   "metadata": {},
   "outputs": [
    {
     "name": "stdout",
     "output_type": "stream",
     "text": [
      "class:  ndarray\n",
      "shape:  (4,)\n",
      "strides:  (8,)\n",
      "itemsize:  8\n",
      "aligned:  True\n",
      "contiguous:  True\n",
      "fortran:  True\n",
      "data pointer: 0x560d6647f2d0\n",
      "byteorder:  little\n",
      "byteswap:  False\n",
      "type: float64\n",
      "None\n"
     ]
    }
   ],
   "source": [
    "print ( np.info(highs) ) "
   ]
  },
  {
   "cell_type": "code",
   "execution_count": null,
   "metadata": {},
   "outputs": [],
   "source": []
  },
  {
   "cell_type": "markdown",
   "metadata": {},
   "source": [
    "Collections allow us to pass multiple values into a function using a single name. For instance, the `sum` function computes the sum of all values in a collection, and the `len` function computes its length. (That's the number of values we put in it.) Using them together, we can compute the average of a collection."
   ]
  },
  {
   "cell_type": "code",
   "execution_count": 13,
   "metadata": {},
   "outputs": [
    {
     "data": {
      "text/plain": [
       "14.434000000000001"
      ]
     },
     "execution_count": 13,
     "metadata": {},
     "output_type": "execute_result"
    }
   ],
   "source": [
    "sum(highs)/len(highs)"
   ]
  },
  {
   "cell_type": "markdown",
   "metadata": {},
   "source": [
    "The complete chart of daily high and low temperatures appears below. \n",
    "\n",
    "<h2>Mean of Daily High Temperature</h2>\n",
    "\n",
    "![Mean of Daily High Temperature](../../images/global-land-TMAX-Trend.png)\n",
    "\n",
    "<h2>Mean of Daily Low Temperature</h2>\n",
    "\n",
    "![Mean of Daily Low Temperature](../../images/global-land-TMIN-Trend.png)"
   ]
  },
  {
   "cell_type": "code",
   "execution_count": 14,
   "metadata": {},
   "outputs": [],
   "source": [
    "#! ls ../../images/"
   ]
  },
  {
   "cell_type": "code",
   "execution_count": null,
   "metadata": {},
   "outputs": [],
   "source": []
  },
  {
   "cell_type": "markdown",
   "metadata": {},
   "source": [
    "# 05.1. Arrays\n",
    "\n",
    "While there are many kinds of collections in Python, we will work primarily with arrays in this class. We've already seen that the `make_array` function can be used to create arrays of numbers.\n",
    "\n",
    "Arrays can also contain strings or other types of values, but a single array can only contain a single kind of data. (It usually doesn't make sense to group together unlike data anyway.)  For example:"
   ]
  },
  {
   "cell_type": "code",
   "execution_count": 15,
   "metadata": {},
   "outputs": [
    {
     "data": {
      "text/plain": [
       "array(['noun', 'pronoun', 'verb', 'adverb', 'adjective', 'conjunction',\n",
       "       'preposition', 'interjection'],\n",
       "      dtype='<U12')"
      ]
     },
     "execution_count": 15,
     "metadata": {},
     "output_type": "execute_result"
    }
   ],
   "source": [
    "english_parts_of_speech = make_array (\n",
    "    \"noun\", \"pronoun\", \"verb\", \"adverb\", \n",
    "    \"adjective\", \"conjunction\", \"preposition\", \n",
    "    \"interjection\")\n",
    "\n",
    "english_parts_of_speech"
   ]
  },
  {
   "cell_type": "markdown",
   "metadata": {},
   "source": [
    "Returning to the temperature data, we create arrays of average daily [high temperatures](http://berkeleyearth.lbl.gov/auto/Regional/TMAX/Text/global-land-TMAX-Trend.txt) for the decades surrounding 1850, 1900, 1950, and 2000."
   ]
  },
  {
   "cell_type": "code",
   "execution_count": 16,
   "metadata": {},
   "outputs": [
    {
     "data": {
      "text/plain": [
       "array([ 13.6  ,  14.387,  14.585,  15.164])"
      ]
     },
     "execution_count": 16,
     "metadata": {},
     "output_type": "execute_result"
    }
   ],
   "source": [
    "baseline_high = 14.48\n",
    "highs = make_array(baseline_high - 0.880, \n",
    "                   baseline_high - 0.093,\n",
    "                   baseline_high + 0.105, \n",
    "                   baseline_high + 0.684)\n",
    "highs"
   ]
  },
  {
   "cell_type": "markdown",
   "metadata": {},
   "source": [
    "Arrays can be used in arithmetic expressions to compute over their contents. When an array is combined with a single number, that number is combined with each element of the array. Therefore, we can convert all of these temperatures to Fahrenheit by writing the familiar conversion formula."
   ]
  },
  {
   "cell_type": "code",
   "execution_count": 17,
   "metadata": {},
   "outputs": [
    {
     "data": {
      "text/plain": [
       "array([ 56.48  ,  57.8966,  58.253 ,  59.2952])"
      ]
     },
     "execution_count": 17,
     "metadata": {},
     "output_type": "execute_result"
    }
   ],
   "source": [
    "(9/5) * highs + 32"
   ]
  },
  {
   "cell_type": "markdown",
   "metadata": {},
   "source": [
    "![array arithmetic](../../images/array_arithmetic.png)"
   ]
  },
  {
   "cell_type": "code",
   "execution_count": 18,
   "metadata": {},
   "outputs": [],
   "source": [
    "#! ls ../../images/"
   ]
  },
  {
   "cell_type": "markdown",
   "metadata": {},
   "source": [
    "Arrays also have *methods*, which are functions that operate on the array values. The `mean` of a collection of numbers is its average value: the sum divided by the length. Each pair of parentheses in the examples below is part of a call expression; it's calling a function with no arguments to perform a computation on the array called `highs`."
   ]
  },
  {
   "cell_type": "code",
   "execution_count": 19,
   "metadata": {},
   "outputs": [
    {
     "data": {
      "text/plain": [
       "4"
      ]
     },
     "execution_count": 19,
     "metadata": {},
     "output_type": "execute_result"
    }
   ],
   "source": [
    "highs.size"
   ]
  },
  {
   "cell_type": "code",
   "execution_count": 20,
   "metadata": {},
   "outputs": [
    {
     "data": {
      "text/plain": [
       "57.736000000000004"
      ]
     },
     "execution_count": 20,
     "metadata": {},
     "output_type": "execute_result"
    }
   ],
   "source": [
    "highs.sum()"
   ]
  },
  {
   "cell_type": "code",
   "execution_count": 21,
   "metadata": {},
   "outputs": [
    {
     "data": {
      "text/plain": [
       "14.434000000000001"
      ]
     },
     "execution_count": 21,
     "metadata": {},
     "output_type": "execute_result"
    }
   ],
   "source": [
    "highs.mean()"
   ]
  },
  {
   "cell_type": "markdown",
   "metadata": {},
   "source": [
    "## Functions on Arrays\n",
    "The `numpy` package, abbreviated `np` in programs, provides Python programmers with convenient and powerful functions for creating and manipulating arrays."
   ]
  },
  {
   "cell_type": "code",
   "execution_count": null,
   "metadata": {},
   "outputs": [],
   "source": []
  },
  {
   "cell_type": "markdown",
   "metadata": {},
   "source": [
    "For example, the `diff` function computes the difference between each adjacent pair of elements in an array. The first element of the `diff` is the second element minus the first. "
   ]
  },
  {
   "cell_type": "code",
   "execution_count": 22,
   "metadata": {},
   "outputs": [
    {
     "data": {
      "text/plain": [
       "array([ 13.6  ,  14.387,  14.585,  15.164])"
      ]
     },
     "execution_count": 22,
     "metadata": {},
     "output_type": "execute_result"
    }
   ],
   "source": [
    "highs"
   ]
  },
  {
   "cell_type": "code",
   "execution_count": 23,
   "metadata": {},
   "outputs": [
    {
     "data": {
      "text/plain": [
       "array([ 0.787,  0.198,  0.579])"
      ]
     },
     "execution_count": 23,
     "metadata": {},
     "output_type": "execute_result"
    }
   ],
   "source": [
    "np.diff(highs)"
   ]
  },
  {
   "cell_type": "code",
   "execution_count": 24,
   "metadata": {},
   "outputs": [
    {
     "name": "stdout",
     "output_type": "stream",
     "text": [
      "0 0.787 0.787\n",
      "1 0.198 0.198\n",
      "2 0.579 0.579\n"
     ]
    }
   ],
   "source": [
    "dh = np.diff(highs)\n",
    "\n",
    "#\n",
    "# Let's check what was going on ...\n",
    "for i in range(highs.size-1):\n",
    "    print ( i, highs[i+1] - highs[i],  dh[i] ) "
   ]
  },
  {
   "cell_type": "markdown",
   "metadata": {},
   "source": [
    "The [full Numpy reference](http://docs.scipy.org/doc/numpy/reference/) lists these functions exhaustively, but only a small subset are used commonly for data processing applications. These are grouped into different packages within `np`. Learning this vocabulary is an important part of learning the Python language, so refer back to this list often as you work through examples and problems.\n",
    "\n",
    "However, you **don't need to memorize these**.  Use this as a reference.\n",
    "\n",
    "Each of these functions takes an array as an argument and returns a single value.\n",
    "\n",
    "| **Function**       | Description                                                          |\n",
    "|--------------------|----------------------------------------------------------------------|\n",
    "| `np.prod`          | Multiply all elements together                                       |\n",
    "| `np.sum`           | Add all elements together                                            |\n",
    "| `np.all`           | Test whether all elements are true values (non-zero numbers are true)|\n",
    "| `np.any`           | Test whether any elements are true values (non-zero numbers are true)|\n",
    "| `np.count_nonzero` | Count the number of non-zero elements                                |\n",
    "\n",
    "Each of these functions takes an array as an argument and returns an array of values.\n",
    "\n",
    "| **Function**       | Description                                                          |\n",
    "|--------------------|----------------------------------------------------------------------|\n",
    "| `np.diff`          | Difference between adjacent elements                                 |\n",
    "| `np.round`         | Round each number to the nearest integer (whole number)              |\n",
    "| `np.cumprod`       | A cumulative product: for each element, multiply all elements so far |\n",
    "| `np.cumsum`        | A cumulative sum: for each element, add all elements so far          |\n",
    "| `np.exp`           | Exponentiate each element                                            |\n",
    "| `np.log`           | Take the natural logarithm of each element                           |\n",
    "| `np.sqrt`          | Take the square root of each element                                 |\n",
    "| `np.sort`          | Sort the elements                                                    |\n",
    "\n",
    "Each of these functions takes an array of strings and returns an array.\n",
    "\n",
    "| **Function**        | **Description**                                              |\n",
    "|---------------------|--------------------------------------------------------------|\n",
    "| `np.char.lower`     | Lowercase each element                                       |\n",
    "| `np.char.upper`     | Uppercase each element                                       |\n",
    "| `np.char.strip`     | Remove spaces at the beginning or end of each element        |\n",
    "| `np.char.isalpha`   | Whether each element is only letters (no numbers or symbols) |\n",
    "| `np.char.isnumeric` | Whether each element is only numeric (no letters)  \n",
    "\n",
    "Each of these functions takes both an array of strings and a *search string*; each returns an array.\n",
    "\n",
    "| **Function**         | **Description**                                                                  |\n",
    "|----------------------|----------------------------------------------------------------------------------|\n",
    "| `np.char.count`      | Count the number of times a search string appears among the elements of an array |\n",
    "| `np.char.find`       | The position within each element that a search string is found first             |\n",
    "| `np.char.rfind`      | The position within each element that a search string is found last              |\n",
    "| `np.char.startswith` | Whether each element starts with the search string  \n",
    "\n"
   ]
  },
  {
   "cell_type": "code",
   "execution_count": 25,
   "metadata": {},
   "outputs": [
    {
     "data": {
      "text/plain": [
       "43274.231214608"
      ]
     },
     "execution_count": 25,
     "metadata": {},
     "output_type": "execute_result"
    }
   ],
   "source": [
    "highs.prod()"
   ]
  },
  {
   "cell_type": "code",
   "execution_count": 26,
   "metadata": {},
   "outputs": [
    {
     "name": "stdout",
     "output_type": "stream",
     "text": [
      "highs.prod() =  43274.2312146\n"
     ]
    }
   ],
   "source": [
    "#\n",
    "# Let's check what was going on ...\n",
    "\n",
    "pr = 1 \n",
    "for i in range(highs.size):\n",
    "    pr = pr * highs[i]\n",
    "#\n",
    "print ( \"highs.prod() = \", pr)"
   ]
  },
  {
   "cell_type": "code",
   "execution_count": 27,
   "metadata": {},
   "outputs": [
    {
     "data": {
      "text/plain": [
       "43274.231214608"
      ]
     },
     "execution_count": 27,
     "metadata": {},
     "output_type": "execute_result"
    }
   ],
   "source": [
    "pr"
   ]
  },
  {
   "cell_type": "code",
   "execution_count": 28,
   "metadata": {},
   "outputs": [
    {
     "data": {
      "text/plain": [
       "array([ 13.6  ,  27.987,  42.572,  57.736])"
      ]
     },
     "execution_count": 28,
     "metadata": {},
     "output_type": "execute_result"
    }
   ],
   "source": [
    "highs.cumsum()"
   ]
  },
  {
   "cell_type": "code",
   "execution_count": 29,
   "metadata": {},
   "outputs": [
    {
     "name": "stdout",
     "output_type": "stream",
     "text": [
      "highs.cumsum() =  [ 13.6    27.987  42.572  57.736]\n"
     ]
    }
   ],
   "source": [
    "#\n",
    "# Let's check what was going on ...\n",
    "\n",
    "cs = np.zeros( highs.size )\n",
    "cs[0] = highs[0]\n",
    "\n",
    "for i in range(1,highs.size):\n",
    "    cs[i] = cs[i-1] + highs[i]  \n",
    "#\n",
    "\n",
    "print ( \"highs.cumsum() = \", cs )"
   ]
  },
  {
   "cell_type": "code",
   "execution_count": 30,
   "metadata": {},
   "outputs": [
    {
     "data": {
      "text/plain": [
       "array([  1.36000000e+01,   1.95663200e+02,   2.85374777e+03,\n",
       "         4.32742312e+04])"
      ]
     },
     "execution_count": 30,
     "metadata": {},
     "output_type": "execute_result"
    }
   ],
   "source": [
    "highs.cumprod()"
   ]
  },
  {
   "cell_type": "code",
   "execution_count": 31,
   "metadata": {},
   "outputs": [
    {
     "name": "stdout",
     "output_type": "stream",
     "text": [
      "highs.cumprod() =  [  1.36000000e+01   1.95663200e+02   2.85374777e+03   4.32742312e+04]\n"
     ]
    }
   ],
   "source": [
    "#\n",
    "# Let's check what was going on ...\n",
    "\n",
    "cp = np.ones( highs.size )\n",
    "cp[0] = highs[0]\n",
    "\n",
    "for i in range(1,highs.size):\n",
    "    cp[i] = cp[i-1] * highs[i]  \n",
    "#\n",
    "\n",
    "print ( \"highs.cumprod() = \", cp )"
   ]
  },
  {
   "cell_type": "code",
   "execution_count": null,
   "metadata": {},
   "outputs": [],
   "source": []
  },
  {
   "cell_type": "markdown",
   "metadata": {},
   "source": [
    "# 05.2. Ranges\n",
    "\n",
    "A *range* is an array of numbers in increasing or decreasing order, each separated by a regular interval. \n",
    "Ranges are useful in a surprisingly large number of situations, so it's worthwhile to learn about them.\n",
    "\n",
    "Ranges are defined  using the `np.arange` function, which takes either one, two, or three arguments: a start, and end, and a 'step'.\n",
    "\n",
    "If you pass one argument to `np.arange`, this becomes the `end` value, with `start=0`, `step=1` assumed.  Two arguments give the `start` and `end` with `step=1` assumed.  Three arguments give the `start`, `end` and `step` explicitly.\n",
    "\n",
    "A range always includes its `start` value, but does not include its `end` value.  It counts up by `step`, and it stops before it gets to the `end`.\n",
    "\n",
    "    np.arange(end): An array starting with 0 of increasing consecutive integers, stopping before end."
   ]
  },
  {
   "cell_type": "code",
   "execution_count": 32,
   "metadata": {},
   "outputs": [
    {
     "data": {
      "text/plain": [
       "array([0, 1, 2, 3, 4])"
      ]
     },
     "execution_count": 32,
     "metadata": {},
     "output_type": "execute_result"
    }
   ],
   "source": [
    "np.arange(5)"
   ]
  },
  {
   "cell_type": "markdown",
   "metadata": {},
   "source": [
    "Notice how the array starts at 0 and goes only up to 4, not to the end value of 5."
   ]
  },
  {
   "cell_type": "markdown",
   "metadata": {},
   "source": [
    "\n",
    "    np.arange(start, end): An array of consecutive increasing integers from start, stopping before end."
   ]
  },
  {
   "cell_type": "code",
   "execution_count": 33,
   "metadata": {},
   "outputs": [
    {
     "data": {
      "text/plain": [
       "array([3, 4, 5, 6, 7, 8])"
      ]
     },
     "execution_count": 33,
     "metadata": {},
     "output_type": "execute_result"
    }
   ],
   "source": [
    "np.arange(3, 9)"
   ]
  },
  {
   "cell_type": "markdown",
   "metadata": {},
   "source": [
    "\n",
    "    np.arange(start, end, step): A range with a difference of step between each pair of consecutive values, starting from start and stopping before end."
   ]
  },
  {
   "cell_type": "code",
   "execution_count": 34,
   "metadata": {},
   "outputs": [
    {
     "data": {
      "text/plain": [
       "array([ 3,  8, 13, 18, 23, 28])"
      ]
     },
     "execution_count": 34,
     "metadata": {},
     "output_type": "execute_result"
    }
   ],
   "source": [
    "np.arange(3, 30, 5)"
   ]
  },
  {
   "cell_type": "markdown",
   "metadata": {},
   "source": [
    "This array starts at 3, then takes a step of 5 to get to 8, then another step of 5 to get to 13, and so on.\n",
    "\n",
    "When you specify a step, the start, end, and step can all be either positive or negative and may be whole numbers or fractions. "
   ]
  },
  {
   "cell_type": "code",
   "execution_count": 35,
   "metadata": {},
   "outputs": [
    {
     "data": {
      "text/plain": [
       "array([ 1.5,  1. ,  0.5,  0. , -0.5, -1. , -1.5])"
      ]
     },
     "execution_count": 35,
     "metadata": {},
     "output_type": "execute_result"
    }
   ],
   "source": [
    "np.arange(1.5, -2, -0.5)"
   ]
  },
  {
   "cell_type": "markdown",
   "metadata": {},
   "source": [
    "## Example: Leibniz's formula for $\\pi$"
   ]
  },
  {
   "cell_type": "markdown",
   "metadata": {},
   "source": [
    "The great German mathematician and philosopher [Gottfried Wilhelm Leibniz](https://en.wikipedia.org/wiki/Gottfried_Wilhelm_Leibniz) \n",
    "(1646 - 1716) discovered a wonderful formula for $\\pi$ as an infinite sum of simple fractions. The formula is\n",
    "\n",
    "$$\\pi = 4 \\cdot \\left(1 - \\frac{1}{3} + \\frac{1}{5} - \\frac{1}{7} + \\frac{1}{9} - \\frac{1}{11} + \\dots\\right)$$"
   ]
  },
  {
   "cell_type": "markdown",
   "metadata": {},
   "source": [
    "Though some math is needed to establish this, we can use arrays to convince ourselves that the formula works. Let's calculate the first 5000 terms of Leibniz's infinite sum and see if it is close to $\\pi$.\n",
    "\n",
    "$$4 \\cdot \\left(1 - \\frac{1}{3} + \\frac{1}{5} - \\frac{1}{7} + \\frac{1}{9} - \\frac{1}{11} + \\dots - \\frac{1}{9999} \\right)$$\n",
    "\n",
    "We will calculate this finite sum by adding all the positive terms first and then subtracting the sum of all the negative terms [[1]](#footnotes):\n",
    "\n",
    "$$4 \\cdot \\left( \\left(1 + \\frac{1}{5} + \\frac{1}{9} + \\dots + \\frac{1}{9997} \\right) - \\left(\\frac{1}{3} + \\frac{1}{7} + \\frac{1}{11} + \\dots + \\frac{1}{9999} \\right) \\right)$$"
   ]
  },
  {
   "cell_type": "markdown",
   "metadata": {},
   "source": [
    "The positive terms in the sum have 1, 5, 9, and so on in the denominators. The array `by_four_to_20` contains these numbers up to 17:"
   ]
  },
  {
   "cell_type": "code",
   "execution_count": 36,
   "metadata": {},
   "outputs": [
    {
     "data": {
      "text/plain": [
       "array([ 1,  5,  9, 13, 17])"
      ]
     },
     "execution_count": 36,
     "metadata": {},
     "output_type": "execute_result"
    }
   ],
   "source": [
    "by_four_to_20 = np.arange(1, 20, 4)\n",
    "by_four_to_20"
   ]
  },
  {
   "cell_type": "markdown",
   "metadata": {},
   "source": [
    "To get an accurate approximation to $\\pi$, we'll use the much longer array `positive_term_denominators`."
   ]
  },
  {
   "cell_type": "code",
   "execution_count": 37,
   "metadata": {},
   "outputs": [
    {
     "data": {
      "text/plain": [
       "array([   1,    5,    9, ..., 9989, 9993, 9997])"
      ]
     },
     "execution_count": 37,
     "metadata": {},
     "output_type": "execute_result"
    }
   ],
   "source": [
    "positive_term_denominators = np.arange(1, 10000, 4)\n",
    "positive_term_denominators"
   ]
  },
  {
   "cell_type": "markdown",
   "metadata": {},
   "source": [
    "The positive terms we actually want to add together are just 1 over these denominators:"
   ]
  },
  {
   "cell_type": "code",
   "execution_count": 38,
   "metadata": {},
   "outputs": [
    {
     "data": {
      "text/plain": [
       "array([  1.00000000e+00,   2.00000000e-01,   1.11111111e-01, ...,\n",
       "         1.00110121e-04,   1.00070049e-04,   1.00030009e-04])"
      ]
     },
     "execution_count": 38,
     "metadata": {},
     "output_type": "execute_result"
    }
   ],
   "source": [
    "positive_terms = 1 / positive_term_denominators\n",
    "positive_terms"
   ]
  },
  {
   "cell_type": "markdown",
   "metadata": {},
   "source": [
    "The negative terms have 3, 7, 11, and so on on in their denominators. This array is just 2 added to `positive_term_denominators`."
   ]
  },
  {
   "cell_type": "code",
   "execution_count": 39,
   "metadata": {},
   "outputs": [
    {
     "data": {
      "text/plain": [
       "array([  3.33333333e-01,   1.42857143e-01,   9.09090909e-02, ...,\n",
       "         1.00090081e-04,   1.00050025e-04,   1.00010001e-04])"
      ]
     },
     "execution_count": 39,
     "metadata": {},
     "output_type": "execute_result"
    }
   ],
   "source": [
    "negative_terms = 1 / (positive_term_denominators + 2)\n",
    "negative_terms"
   ]
  },
  {
   "cell_type": "markdown",
   "metadata": {},
   "source": [
    "The overall sum is"
   ]
  },
  {
   "cell_type": "code",
   "execution_count": 40,
   "metadata": {},
   "outputs": [
    {
     "data": {
      "text/plain": [
       "3.1413926535917955"
      ]
     },
     "execution_count": 40,
     "metadata": {},
     "output_type": "execute_result"
    }
   ],
   "source": [
    "pi1 = 4 * ( sum(positive_terms) - sum(negative_terms) )\n",
    "pi1 "
   ]
  },
  {
   "cell_type": "markdown",
   "metadata": {},
   "source": [
    "This is very close to $\\pi = 3.14159\\dots$. Leibniz's formula is looking good!"
   ]
  },
  {
   "cell_type": "code",
   "execution_count": 41,
   "metadata": {},
   "outputs": [
    {
     "name": "stdout",
     "output_type": "stream",
     "text": [
      "| pi.exact - pi.approx | =  2.0000e-04\n"
     ]
    }
   ],
   "source": [
    "print ( \"| pi.exact - pi.approx | = %11.4e\" %  abs( np.pi - pi1 ) )  "
   ]
  },
  {
   "cell_type": "markdown",
   "metadata": {},
   "source": [
    "<a id='footnotes'></a>\n",
    "## Footnotes\n",
    "[1] Surprisingly, when we add  *infinitely* many positive and negative fractions, the order can matter! But our approximation to $\\pi$ uses only a large finite number of fractions, so it's okay to add the terms in any convenient order."
   ]
  },
  {
   "cell_type": "markdown",
   "metadata": {},
   "source": [
    "Again"
   ]
  },
  {
   "cell_type": "code",
   "execution_count": 47,
   "metadata": {},
   "outputs": [
    {
     "name": "stdout",
     "output_type": "stream",
     "text": [
      "| pi.exact - pi.approx | =  2.0006e-08\n"
     ]
    }
   ],
   "source": [
    "n = 100000000\n",
    "\n",
    "positive_term_denominators = np.arange(1, n, 4)\n",
    "\n",
    "positive_terms = 1 / positive_term_denominators\n",
    "negative_terms = 1 / (positive_term_denominators + 2)\n",
    "\n",
    "pi2 = 4 * ( sum(positive_terms) - sum(negative_terms) )\n",
    "\n",
    "print ( \"| pi.exact - pi.approx | = %11.4e\" %  abs( np.pi - pi2 ) )  "
   ]
  },
  {
   "cell_type": "code",
   "execution_count": null,
   "metadata": {},
   "outputs": [],
   "source": []
  },
  {
   "cell_type": "markdown",
   "metadata": {},
   "source": [
    "# 05.3. More on Arrays\n",
    "It's often necessary to compute something that involves data from more than one array. If two arrays are of the same size, Python makes it easy to do calculations involving both arrays.\n",
    "\n",
    "For our first example, we return once more to the temperature data.  This time, we create arrays of average daily [high](http://berkeleyearth.lbl.gov/auto/Regional/TMAX/Text/global-land-TMAX-Trend.txt) and [low](http://berkeleyearth.lbl.gov/auto/Regional/TMIN/Text/global-land-TMIN-Trend.txt) temperatures for the decades surrounding 1850, 1900, 1950, and 2000."
   ]
  },
  {
   "cell_type": "code",
   "execution_count": 48,
   "metadata": {},
   "outputs": [
    {
     "data": {
      "text/plain": [
       "array([ 13.6  ,  14.387,  14.585,  15.164])"
      ]
     },
     "execution_count": 48,
     "metadata": {},
     "output_type": "execute_result"
    }
   ],
   "source": [
    "baseline_high = 14.48\n",
    "highs = make_array(baseline_high - 0.880, \n",
    "                   baseline_high - 0.093,\n",
    "                   baseline_high + 0.105, \n",
    "                   baseline_high + 0.684)\n",
    "highs"
   ]
  },
  {
   "cell_type": "code",
   "execution_count": 49,
   "metadata": {},
   "outputs": [
    {
     "data": {
      "text/plain": [
       "array([ 2.128,  2.371,  2.874,  3.728])"
      ]
     },
     "execution_count": 49,
     "metadata": {},
     "output_type": "execute_result"
    }
   ],
   "source": [
    "baseline_low = 3.00\n",
    "lows = make_array(baseline_low - 0.872, baseline_low - 0.629,\n",
    "                  baseline_low - 0.126, baseline_low + 0.728)\n",
    "lows"
   ]
  },
  {
   "cell_type": "markdown",
   "metadata": {},
   "source": [
    "Suppose we'd like to compute the average daily *range* of temperatures for each decade.  That is, we want to subtract the average daily high in the 1850s from the average daily low in the 1850s, and the same for each other decade.\n",
    "\n",
    "We could write this laboriously using `.item`:"
   ]
  },
  {
   "cell_type": "code",
   "execution_count": 50,
   "metadata": {},
   "outputs": [
    {
     "data": {
      "text/plain": [
       "array([ 11.472,  12.016,  11.711,  11.436])"
      ]
     },
     "execution_count": 50,
     "metadata": {},
     "output_type": "execute_result"
    }
   ],
   "source": [
    "make_array(\n",
    "    highs.item(0) - lows.item(0),\n",
    "    highs.item(1) - lows.item(1),\n",
    "    highs.item(2) - lows.item(2),\n",
    "    highs.item(3) - lows.item(3)\n",
    ")"
   ]
  },
  {
   "cell_type": "markdown",
   "metadata": {},
   "source": [
    "Is this better ?"
   ]
  },
  {
   "cell_type": "code",
   "execution_count": 51,
   "metadata": {},
   "outputs": [
    {
     "data": {
      "text/plain": [
       "array([ 11.472,  12.016,  11.711,  11.436])"
      ]
     },
     "execution_count": 51,
     "metadata": {},
     "output_type": "execute_result"
    }
   ],
   "source": [
    "make_array(\n",
    "    highs[0] - lows[0],\n",
    "    highs[1] - lows[1],\n",
    "    highs[2] - lows[2],\n",
    "    highs[3] - lows[3]\n",
    ")"
   ]
  },
  {
   "cell_type": "markdown",
   "metadata": {},
   "source": [
    "But, this best solution may be the following "
   ]
  },
  {
   "cell_type": "markdown",
   "metadata": {},
   "source": [
    "As when we converted an array of temperatures from Celsius to Fahrenheit, Python provides a much cleaner way to write this:"
   ]
  },
  {
   "cell_type": "code",
   "execution_count": 52,
   "metadata": {},
   "outputs": [
    {
     "data": {
      "text/plain": [
       "array([ 11.472,  12.016,  11.711,  11.436])"
      ]
     },
     "execution_count": 52,
     "metadata": {},
     "output_type": "execute_result"
    }
   ],
   "source": [
    "highs - lows"
   ]
  },
  {
   "cell_type": "markdown",
   "metadata": {},
   "source": [
    "![array subtraction](../../images/array_subtraction.png)"
   ]
  },
  {
   "cell_type": "markdown",
   "metadata": {},
   "source": [
    "What we've seen in these examples are special cases of a general feature of arrays."
   ]
  },
  {
   "cell_type": "markdown",
   "metadata": {},
   "source": [
    "## Elementwise arithmetic on pairs of numerical arrays\n",
    "If an arithmetic operator acts on two arrays of the same size, then the operation is performed on each corresponding pair of elements in the two arrays. The final result is an array. \n",
    "\n",
    "For example, if `array1` and `array2` have the same number of elements, then the value of `array1 * array2` is an array. Its first element is the first element of `array1` times the first element of `array2`, its second element is the second element of `array1` times the second element of `array2`, and so on."
   ]
  },
  {
   "cell_type": "markdown",
   "metadata": {},
   "source": [
    "This is a product of \"even/odd\" fractions. Let's use arrays to multiply a million of them, and see if the product is close to $\\pi$."
   ]
  },
  {
   "cell_type": "markdown",
   "metadata": {},
   "source": [
    "Remember that multiplication can done in any order [[1]](#footnotes), so we can readjust our calculation to:\n",
    "\n",
    "$$\\pi \\approx 2 \\cdot \\left( \\frac{2}{1} \\cdot \\frac{4}{3} \\cdot \\frac{6}{5} \\cdots \\frac{1,000,000}{999999} \\right) \\cdot \\left( \\frac{2}{3} \\cdot \\frac{4}{5} \\cdot \\frac{6}{7} \\cdots \\frac{1,000,000}{1,000,001} \\right)$$"
   ]
  },
  {
   "cell_type": "markdown",
   "metadata": {},
   "source": [
    "We're now ready to do the calculation. We start by creating an array of even numbers 2, 4, 6, and so on upto 1,000,000. Then we create two lists of odd numbers: 1, 3, 5, 7, ... upto 999,999, and 3, 5, 7, ... upto 1,000,001."
   ]
  },
  {
   "cell_type": "code",
   "execution_count": 53,
   "metadata": {},
   "outputs": [],
   "source": [
    "even = np.arange(2, 1000001, 2)\n",
    "one_below_even = even - 1\n",
    "one_above_even = even + 1"
   ]
  },
  {
   "cell_type": "code",
   "execution_count": 54,
   "metadata": {},
   "outputs": [
    {
     "data": {
      "text/plain": [
       "array([      2,       4,       6, ...,  999996,  999998, 1000000])"
      ]
     },
     "execution_count": 54,
     "metadata": {},
     "output_type": "execute_result"
    }
   ],
   "source": [
    "even"
   ]
  },
  {
   "cell_type": "code",
   "execution_count": 55,
   "metadata": {},
   "outputs": [
    {
     "data": {
      "text/plain": [
       "array([     1,      3,      5, ..., 999995, 999997, 999999])"
      ]
     },
     "execution_count": 55,
     "metadata": {},
     "output_type": "execute_result"
    }
   ],
   "source": [
    "one_below_even"
   ]
  },
  {
   "cell_type": "code",
   "execution_count": 56,
   "metadata": {},
   "outputs": [
    {
     "data": {
      "text/plain": [
       "array([      3,       5,       7, ...,  999997,  999999, 1000001])"
      ]
     },
     "execution_count": 56,
     "metadata": {},
     "output_type": "execute_result"
    }
   ],
   "source": [
    "one_above_even"
   ]
  },
  {
   "cell_type": "code",
   "execution_count": null,
   "metadata": {},
   "outputs": [],
   "source": []
  },
  {
   "cell_type": "markdown",
   "metadata": {},
   "source": [
    "Remember that `np.prod` multiplies all the elements of an array together. Now we can calculate Wallis' product, to a good approximation."
   ]
  },
  {
   "cell_type": "code",
   "execution_count": 57,
   "metadata": {},
   "outputs": [
    {
     "data": {
      "text/plain": [
       "3.1415910827951143"
      ]
     },
     "execution_count": 57,
     "metadata": {},
     "output_type": "execute_result"
    }
   ],
   "source": [
    "pi3 = 2 * np.prod(even/one_below_even) * np.prod(even/one_above_even)\n",
    "pi3 "
   ]
  },
  {
   "cell_type": "code",
   "execution_count": 58,
   "metadata": {},
   "outputs": [
    {
     "name": "stdout",
     "output_type": "stream",
     "text": [
      "| pi.exact - pi.approx | =  1.5708e-06\n"
     ]
    }
   ],
   "source": [
    "print ( \"| pi.exact - pi.approx | = %11.4e\" %  abs( np.pi - pi3 ) )  "
   ]
  },
  {
   "cell_type": "markdown",
   "metadata": {},
   "source": [
    "That's $\\pi$ correct to five decimal places.  Wallis clearly came up with a great formula."
   ]
  },
  {
   "cell_type": "markdown",
   "metadata": {},
   "source": [
    "<a id='footnotes'></a>\n",
    "## Footnotes\n",
    "[1] As we saw in the example about Leibniz's formula, when we add  *infinitely* many fractions, the order can matter. The same is true with multiplying fractions, as we are doing here. But our approximation to $\\pi$ uses only a large finite number of fractions, so it's okay to multiply the terms in any convenient order."
   ]
  },
  {
   "cell_type": "markdown",
   "metadata": {},
   "source": [
    "# Exercises: \n",
    "\n",
    "\n",
    "1. Approximate numerically $\\pi = 3.141592653589 \\ldots $ from the Nilakantha's series: ([source](https://en.wikipedia.org/wiki/Pi)) \n",
    "\\begin{eqnarray}\n",
    "    \\pi \n",
    "    = \n",
    "    3 \n",
    "    +\n",
    "    \\frac{4}{ 2 \\cdot 3 \\cdot 4 }\n",
    "    -\n",
    "    \\frac{4}{ 4 \\cdot 5 \\cdot 6 }\n",
    "    +\n",
    "    \\frac{4}{ 6 \\cdot 7 \\cdot 8 }\n",
    "    -\n",
    "    \\ldots\n",
    "\\end{eqnarray}\n",
    "\n",
    "2. Approximate $e = 2.7182818284 \\ldots $ numerically from \n",
    "\\begin{eqnarray}\n",
    "    e\n",
    "    = \n",
    "    \\sum_{ k = 0 }^{ \\infty }\n",
    "    \\frac{\n",
    "        1\n",
    "    }{\n",
    "        k!\n",
    "    }\n",
    "    =\n",
    "    1 \n",
    "    + \n",
    "    \\frac{1}{1}\n",
    "    +\n",
    "    \\frac{1 }{ 1 \\cdot 2 }\n",
    "    +\n",
    "    \\frac{1 }{ 1 \\cdot 2 \\cdot 3 }\n",
    "    +\n",
    "    \\frac{1 }{ 1 \\cdot 2 \\cdot 3 \\cdot 4 }\n",
    "    +\n",
    "    \\ldots \n",
    "\\end{eqnarray}\n",
    "\n",
    "3. Can you approximate and plot the cumulative distribution function (CDF) of the standard normal distribution ?\n",
    "\\begin{eqnarray}\n",
    "    \\Phi(x)\n",
    "    =\n",
    "    \\frac{ 1 }{ \\sqrt{ 2 \\pi } }\n",
    "    \\int_{ -\\infty }^{ x }\n",
    "    \\mathrm{e}^{ -t^2 / 2 }\n",
    "    \\mathrm{d} t\n",
    "\\end{eqnarray}\n",
    "Suppose that we are interested in $\\Phi(x_k)$ for $x_k \\in [-10,10]$ with the uniform step size \n",
    "$\\Delta x = |x_k - x_{k-1}| = 0.2 $. \n",
    "\n",
    "Hint: Put \n",
    "$$\n",
    "    x_0 = -10 \n",
    "    ,\\quad \n",
    "    x_{N} = 10\n",
    "    ,\n",
    "    \\quad \n",
    "    \\Delta x = \\frac{ x_{N} - x_{0} }{ N } = 0.2 \n",
    "    ,\n",
    "    \\quad \n",
    "    N = ???\n",
    "    ,\\quad \n",
    "    x_{k} = x_{0} + k \\Delta x\n",
    "    ,\n",
    "    \\quad \n",
    "    k = \\overline{0,N}\n",
    "$$\n",
    "and \n",
    "$ f(t) = \\mathrm{e}^{ -t^2 / 2 } $.\n",
    "Since \n",
    "$ f(x)  \\simeq 0 $ for $x \\le x_0 $,\n",
    "you can approximate $\\Phi(x_k)$ by\n",
    "$$\n",
    "    \\Phi(x_k)\n",
    "    \\sqrt{ 2 \\pi }\n",
    "    =\n",
    "    \\int_{ -\\infty }^{ x_{k} }\n",
    "    f(t) \n",
    "    \\mathrm{d} t\n",
    "    \\simeq\n",
    "    \\int_{ x_0 }^{ x_{k} }\n",
    "    f(t) \n",
    "    \\mathrm{d} t\n",
    "    =\n",
    "    \\sum_{j = 1}^{k}\n",
    "    \\int_{ x_{j-1} }^{ x_{j} }\n",
    "    f(t) \n",
    "    \\mathrm{d} t\n",
    ",\n",
    "$$\n",
    "where you can evaluate $\\int_{ x_{j-1} }^{ x_{j} }\n",
    "    f(t) \n",
    "    \\mathrm{d} t$\n",
    "using one of the following methods.    \n",
    "\n",
    "(a) the trapezoidal rule\n",
    "$$\n",
    "    \\quad \n",
    "    \\int_{ x_{j-1} }^{ x_{j} }\n",
    "    f(t)\n",
    "    \\mathrm{d} t\n",
    "    \\simeq\n",
    "\\;\n",
    "    \\Delta x \n",
    "    \\frac{\n",
    "        f(x_{j}) + f(x_{j-1})\n",
    "    }{ 2}\n",
    ".\n",
    "$$\n",
    "Or, \n",
    "\n",
    "(b) the midpoint rule\n",
    "$$\n",
    "    \\quad \n",
    "    \\int_{ x_{j-1}  }^{ x_{j}  }\n",
    "    f(t)\n",
    "    \\mathrm{d} t\n",
    "    \\simeq\n",
    "\\;    \n",
    "    \\Delta x \\;\n",
    "     f \\left( \\frac{ x_{j-1} + x_{j} }{2} \\right)\n",
    ".\n",
    "$$\n",
    "\n",
    "After that, you can validate your approximation from the identity: ([source](https://en.wikipedia.org/wiki/Normal_distribution))\n",
    "$$\n",
    "    \\Phi (x) =\n",
    "    \\frac{1}{2}\n",
    "    \\left( \n",
    "        1 + \\mathrm{erf} \\left( x / \\sqrt{2} \\right)\n",
    "    \\right)\n",
    "$$\n",
    "Here the error function $\\mathrm{erf}(x) $ can be obtain from \n",
    "[scipy.special.erf](https://docs.scipy.org/doc/scipy/reference/generated/scipy.special.erf.html)."
   ]
  },
  {
   "cell_type": "code",
   "execution_count": null,
   "metadata": {},
   "outputs": [],
   "source": []
  },
  {
   "cell_type": "code",
   "execution_count": null,
   "metadata": {},
   "outputs": [],
   "source": []
  }
 ],
 "metadata": {
  "kernelspec": {
   "display_name": "Python 3 (ipykernel)",
   "language": "python",
   "name": "python3"
  },
  "language_info": {
   "codemirror_mode": {
    "name": "ipython",
    "version": 3
   },
   "file_extension": ".py",
   "mimetype": "text/x-python",
   "name": "python",
   "nbconvert_exporter": "python",
   "pygments_lexer": "ipython3",
   "version": "3.9.19"
  }
 },
 "nbformat": 4,
 "nbformat_minor": 2
}
